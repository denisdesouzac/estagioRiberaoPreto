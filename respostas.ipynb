{
 "cells": [
  {
   "cell_type": "markdown",
   "id": "12606d2f-e7ef-4760-95a9-ab8c739ab7dd",
   "metadata": {},
   "source": [
    "### Questão 1"
   ]
  },
  {
   "cell_type": "code",
   "execution_count": 1,
   "id": "25e862e0-4a93-4072-9e1f-3d9ade5b06ff",
   "metadata": {},
   "outputs": [
    {
     "name": "stdout",
     "output_type": "stream",
     "text": [
      "91\n"
     ]
    }
   ],
   "source": [
    "INDICE = 13\n",
    "SOMA = 0\n",
    "K = 0\n",
    "\n",
    "while K < INDICE:\n",
    "    K = K + 1\n",
    "    SOMA = SOMA + K\n",
    "\n",
    "print(SOMA)"
   ]
  },
  {
   "cell_type": "markdown",
   "id": "9badf6c3-70c3-4338-a09d-d5053448b8dc",
   "metadata": {},
   "source": [
    "### Questão 2"
   ]
  },
  {
   "cell_type": "code",
   "execution_count": 2,
   "id": "753d9870-ccf5-4a17-b750-62276e843b1e",
   "metadata": {},
   "outputs": [],
   "source": [
    "def fibonacci(n):\n",
    "    if n == 0:\n",
    "        return 0\n",
    "    elif n == 1:\n",
    "        return 1\n",
    "    else:\n",
    "        fib1 = fibonacci(n - 1)\n",
    "        fib2 = fibonacci(n - 2)\n",
    "        return fib1 + fib2\n",
    "\n",
    "def verifica_fibonacci(number):\n",
    "    i = 0\n",
    "    while True:\n",
    "        fib = fibonacci(i)\n",
    "        if fib == number:\n",
    "            return True\n",
    "        elif fib > number:\n",
    "            return False\n",
    "        i += 1"
   ]
  },
  {
   "cell_type": "code",
   "execution_count": 3,
   "id": "85f15896-590d-4715-b775-21a16b7ea4ab",
   "metadata": {},
   "outputs": [
    {
     "name": "stdin",
     "output_type": "stream",
     "text": [
      "Digite um número para verificar se pertence à sequência de Fibonacci:  6\n"
     ]
    },
    {
     "name": "stdout",
     "output_type": "stream",
     "text": [
      "O número 6 não pertence à sequência de Fibonacci.\n"
     ]
    }
   ],
   "source": [
    "numero = int(input(\"Digite um número para verificar se pertence à sequência de Fibonacci: \"))\n",
    "if verifica_fibonacci(numero):\n",
    "    print(f\"O número {numero} pertence à sequência de Fibonacci.\")\n",
    "else:\n",
    "    print(f\"O número {numero} não pertence à sequência de Fibonacci.\")"
   ]
  },
  {
   "cell_type": "markdown",
   "id": "1af39bec-13b5-4f90-8d04-5a47d3f6a002",
   "metadata": {},
   "source": [
    "### Questão 3"
   ]
  },
  {
   "cell_type": "markdown",
   "id": "e05501bb-f424-4045-936b-0ece08a9b3ef",
   "metadata": {},
   "source": [
    "3) Descubra a lógica e complete o próximo elemento:\n",
    "\n",
    "a) 1, 3, 5, 7, 9\n",
    "\n",
    "b) 2, 4, 8, 16, 32, 64, 128\n",
    "\n",
    "c) 0, 1, 4, 9, 16, 25, 36, 49\n",
    "\n",
    "d) 4, 16, 36, 64, 100\n",
    "\n",
    "e) 1, 1, 2, 3, 5, 8, 13\n",
    "\n",
    "f) 2,10, 12, 16, 17, 18, 19, 20\n"
   ]
  },
  {
   "cell_type": "markdown",
   "id": "29cbda29-2092-4819-b6cb-a2728984f278",
   "metadata": {},
   "source": [
    "### Questão 4"
   ]
  },
  {
   "cell_type": "markdown",
   "id": "62d19de6-8353-4ccf-b001-48e2d53523d5",
   "metadata": {},
   "source": [
    "Liguaria o primeiro interruptor e esperaria alguns minutos.\n",
    "Depois, desligaria o primeiro interruptor e ligaria o segundo interruptor.\n",
    "Em seguida, iria até a sala das lâmpadas.\n",
    "Ao entrar na sala das lâmpadas:\n",
    "\n",
    "Se a lâmpada estiver acesa, o segundo interruptor controla essa lâmpada.\n",
    "Se a lâmpada estiver desligada, tocaria na lâmpada.\n",
    "Se a lâmpada estiver quente, o primeiro interruptor controla essa lâmpada.\n",
    "Se a lâmpada estiver fria, o terceiro interruptor controla essa lâmpada."
   ]
  },
  {
   "cell_type": "markdown",
   "id": "bda0dea4-263c-4768-917e-305ebb1f6fed",
   "metadata": {},
   "source": [
    "### Questão 5"
   ]
  },
  {
   "cell_type": "code",
   "execution_count": 4,
   "id": "decb93a8-c301-4443-b0f2-5f496e677ec1",
   "metadata": {},
   "outputs": [],
   "source": [
    "def inverter_string(string):\n",
    "    inverted = \"\"\n",
    "    for i in range(len(string) - 1, -1, -1):\n",
    "        inverted += string[i]\n",
    "    return inverted"
   ]
  },
  {
   "cell_type": "code",
   "execution_count": 5,
   "id": "903adbb6-1976-47a7-bf42-fa08f27ebb0a",
   "metadata": {},
   "outputs": [
    {
     "name": "stdin",
     "output_type": "stream",
     "text": [
      "Digite uma string para inverter:  Computador\n"
     ]
    },
    {
     "name": "stdout",
     "output_type": "stream",
     "text": [
      "String original: Computador\n",
      "String invertida: rodatupmoC\n"
     ]
    }
   ],
   "source": [
    "string_original = input(\"Digite uma string para inverter: \")\n",
    "string_invertida = inverter_string(string_original)\n",
    "print(\"String original:\", string_original)\n",
    "print(\"String invertida:\", string_invertida)"
   ]
  },
  {
   "cell_type": "code",
   "execution_count": null,
   "id": "68a6a9f6-0b81-4f92-982e-7379247f8d68",
   "metadata": {},
   "outputs": [],
   "source": []
  }
 ],
 "metadata": {
  "kernelspec": {
   "display_name": "Python 3 (ipykernel)",
   "language": "python",
   "name": "python3"
  },
  "language_info": {
   "codemirror_mode": {
    "name": "ipython",
    "version": 3
   },
   "file_extension": ".py",
   "mimetype": "text/x-python",
   "name": "python",
   "nbconvert_exporter": "python",
   "pygments_lexer": "ipython3",
   "version": "3.10.12"
  }
 },
 "nbformat": 4,
 "nbformat_minor": 5
}
